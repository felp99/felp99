{
 "cells": [
  {
   "cell_type": "code",
   "execution_count": 64,
   "id": "d0a868d2-3399-4eff-acd7-c77cd2b11c39",
   "metadata": {},
   "outputs": [],
   "source": [
    "import requests\n",
    "import pandas as pd\n",
    "import numpy as np\n",
    "import datetime\n",
    "import matplotlib.pyplot as plt "
   ]
  },
  {
   "cell_type": "code",
   "execution_count": 109,
   "id": "73ac022f-dbd4-4737-8c83-b2d9ceb907a3",
   "metadata": {},
   "outputs": [],
   "source": [
    "final_date = datetime.datetime.now()\n",
    "init_date = final_date - datetime.timedelta(days = 360 * 5)"
   ]
  },
  {
   "cell_type": "code",
   "execution_count": 110,
   "id": "71831180-dfd4-4a7b-8b86-d065714ca96f",
   "metadata": {},
   "outputs": [],
   "source": [
    "final_date = final_date.strftime(\"%d/%m/%Y\")\n",
    "init_date = init_date.strftime(\"%d/%m/%Y\")"
   ]
  },
  {
   "cell_type": "code",
   "execution_count": 111,
   "id": "03c05c9c-69c9-40d0-8bb5-89d709fc1df6",
   "metadata": {},
   "outputs": [
    {
     "data": {
      "text/plain": [
       "'17/02/2017'"
      ]
     },
     "execution_count": 111,
     "metadata": {},
     "output_type": "execute_result"
    }
   ],
   "source": [
    "init_date"
   ]
  },
  {
   "cell_type": "code",
   "execution_count": 112,
   "id": "3cacbe87-4972-4743-9a6b-61b68a0ea371",
   "metadata": {},
   "outputs": [],
   "source": [
    "df = pd.DataFrame(index = pd.date_range(start = init_date, end = final_date, freq = 'SM'))\n",
    "df.index.name = 'Data'"
   ]
  },
  {
   "cell_type": "code",
   "execution_count": 113,
   "id": "fa44e5e4-1f46-4563-8321-62aebf695a51",
   "metadata": {},
   "outputs": [],
   "source": [
    "df['Aporte'] = 1000"
   ]
  },
  {
   "cell_type": "code",
   "execution_count": 114,
   "id": "f58f081b-0702-4b28-bc8a-3a1988aabcb2",
   "metadata": {},
   "outputs": [],
   "source": [
    "df['Aporte'][:int(len(df)/2)] = 1000\n",
    "df['Aporte'][int(len(df)/2):] = 5000"
   ]
  },
  {
   "cell_type": "code",
   "execution_count": 115,
   "id": "aaa97e8a-20fc-4b50-b76e-529110294ccd",
   "metadata": {},
   "outputs": [
    {
     "data": {
      "text/html": [
       "<div>\n",
       "<style scoped>\n",
       "    .dataframe tbody tr th:only-of-type {\n",
       "        vertical-align: middle;\n",
       "    }\n",
       "\n",
       "    .dataframe tbody tr th {\n",
       "        vertical-align: top;\n",
       "    }\n",
       "\n",
       "    .dataframe thead th {\n",
       "        text-align: right;\n",
       "    }\n",
       "</style>\n",
       "<table border=\"1\" class=\"dataframe\">\n",
       "  <thead>\n",
       "    <tr style=\"text-align: right;\">\n",
       "      <th></th>\n",
       "      <th>Aporte</th>\n",
       "      <th>Acum. Aporte</th>\n",
       "    </tr>\n",
       "    <tr>\n",
       "      <th>Data</th>\n",
       "      <th></th>\n",
       "      <th></th>\n",
       "    </tr>\n",
       "  </thead>\n",
       "  <tbody>\n",
       "    <tr>\n",
       "      <th>2017-02-28</th>\n",
       "      <td>1000</td>\n",
       "      <td>1000</td>\n",
       "    </tr>\n",
       "    <tr>\n",
       "      <th>2017-03-15</th>\n",
       "      <td>1000</td>\n",
       "      <td>2000</td>\n",
       "    </tr>\n",
       "    <tr>\n",
       "      <th>2017-03-31</th>\n",
       "      <td>1000</td>\n",
       "      <td>3000</td>\n",
       "    </tr>\n",
       "    <tr>\n",
       "      <th>2017-04-15</th>\n",
       "      <td>1000</td>\n",
       "      <td>4000</td>\n",
       "    </tr>\n",
       "    <tr>\n",
       "      <th>2017-04-30</th>\n",
       "      <td>1000</td>\n",
       "      <td>5000</td>\n",
       "    </tr>\n",
       "  </tbody>\n",
       "</table>\n",
       "</div>"
      ],
      "text/plain": [
       "            Aporte  Acum. Aporte\n",
       "Data                            \n",
       "2017-02-28    1000          1000\n",
       "2017-03-15    1000          2000\n",
       "2017-03-31    1000          3000\n",
       "2017-04-15    1000          4000\n",
       "2017-04-30    1000          5000"
      ]
     },
     "execution_count": 115,
     "metadata": {},
     "output_type": "execute_result"
    }
   ],
   "source": [
    "df['Acum. Aporte'] = df['Aporte'].cumsum()\n",
    "df.head()"
   ]
  },
  {
   "cell_type": "code",
   "execution_count": 116,
   "id": "1eab1743-4efc-42cc-8f18-851e269691f3",
   "metadata": {},
   "outputs": [
    {
     "data": {
      "text/plain": [
       "<Response [200]>"
      ]
     },
     "execution_count": 116,
     "metadata": {},
     "output_type": "execute_result"
    }
   ],
   "source": [
    "response = requests.get(f'https://api.bcb.gov.br/dados/serie/bcdata.sgs.11/dados?formato=json&dataInicial={init_date}&dataFinal={final_date}')\n",
    "response"
   ]
  },
  {
   "cell_type": "code",
   "execution_count": 117,
   "id": "d09e8577-2999-4f9b-b12f-3bcf613aeee7",
   "metadata": {},
   "outputs": [
    {
     "data": {
      "text/html": [
       "<div>\n",
       "<style scoped>\n",
       "    .dataframe tbody tr th:only-of-type {\n",
       "        vertical-align: middle;\n",
       "    }\n",
       "\n",
       "    .dataframe tbody tr th {\n",
       "        vertical-align: top;\n",
       "    }\n",
       "\n",
       "    .dataframe thead th {\n",
       "        text-align: right;\n",
       "    }\n",
       "</style>\n",
       "<table border=\"1\" class=\"dataframe\">\n",
       "  <thead>\n",
       "    <tr style=\"text-align: right;\">\n",
       "      <th></th>\n",
       "      <th>Selic</th>\n",
       "    </tr>\n",
       "    <tr>\n",
       "      <th>Data</th>\n",
       "      <th></th>\n",
       "    </tr>\n",
       "  </thead>\n",
       "  <tbody>\n",
       "    <tr>\n",
       "      <th>2017-02-17</th>\n",
       "      <td>0.048159</td>\n",
       "    </tr>\n",
       "    <tr>\n",
       "      <th>2017-02-20</th>\n",
       "      <td>0.048159</td>\n",
       "    </tr>\n",
       "    <tr>\n",
       "      <th>2017-02-21</th>\n",
       "      <td>0.048159</td>\n",
       "    </tr>\n",
       "    <tr>\n",
       "      <th>2017-02-22</th>\n",
       "      <td>0.048159</td>\n",
       "    </tr>\n",
       "    <tr>\n",
       "      <th>2017-02-23</th>\n",
       "      <td>0.045513</td>\n",
       "    </tr>\n",
       "  </tbody>\n",
       "</table>\n",
       "</div>"
      ],
      "text/plain": [
       "               Selic\n",
       "Data                \n",
       "2017-02-17  0.048159\n",
       "2017-02-20  0.048159\n",
       "2017-02-21  0.048159\n",
       "2017-02-22  0.048159\n",
       "2017-02-23  0.045513"
      ]
     },
     "execution_count": 117,
     "metadata": {},
     "output_type": "execute_result"
    }
   ],
   "source": [
    "selic_df = pd.DataFrame(response.json())\n",
    "selic_df['Data'] = pd.to_datetime(selic_df['data'], infer_datetime_format= True)\n",
    "\n",
    "selic_df = selic_df.set_index('Data').drop(columns = ['data'])\n",
    "selic_df = selic_df.rename(columns = {'valor':'Selic'})\n",
    "selic_df['Selic'] = pd.to_numeric(selic_df['Selic'], errors = 'raise')\n",
    "\n",
    "selic_df.head()"
   ]
  },
  {
   "cell_type": "markdown",
   "id": "5a3cb8a1-26ae-4437-90bb-a21cce490749",
   "metadata": {},
   "source": [
    "> https://pandas.pydata.org/docs/user_guide/timeseries.html#timeseries-offset-aliases"
   ]
  },
  {
   "cell_type": "code",
   "execution_count": 118,
   "id": "84cd877f-c077-4cab-b742-f4bcb3ac5afd",
   "metadata": {},
   "outputs": [],
   "source": [
    "df = df.resample('B').ffill()"
   ]
  },
  {
   "cell_type": "code",
   "execution_count": 119,
   "id": "73e3aa2b-6769-4007-8d37-d48eb3c59657",
   "metadata": {},
   "outputs": [],
   "source": [
    "final_df = pd.merge(df, right = selic_df, left_index=True, right_index=True)"
   ]
  },
  {
   "cell_type": "code",
   "execution_count": 120,
   "id": "88d353f2-b691-4303-a8d1-8ceefe19f59c",
   "metadata": {},
   "outputs": [],
   "source": [
    "final_df.dropna(how='any', inplace=True)"
   ]
  },
  {
   "cell_type": "code",
   "execution_count": 121,
   "id": "4257f667-3e60-426f-affa-f8d1dc1f29c4",
   "metadata": {},
   "outputs": [
    {
     "data": {
      "text/html": [
       "<div>\n",
       "<style scoped>\n",
       "    .dataframe tbody tr th:only-of-type {\n",
       "        vertical-align: middle;\n",
       "    }\n",
       "\n",
       "    .dataframe tbody tr th {\n",
       "        vertical-align: top;\n",
       "    }\n",
       "\n",
       "    .dataframe thead th {\n",
       "        text-align: right;\n",
       "    }\n",
       "</style>\n",
       "<table border=\"1\" class=\"dataframe\">\n",
       "  <thead>\n",
       "    <tr style=\"text-align: right;\">\n",
       "      <th></th>\n",
       "      <th>Aporte</th>\n",
       "      <th>Acum. Aporte</th>\n",
       "      <th>Selic</th>\n",
       "      <th>Acum. Selic</th>\n",
       "      <th>Pat. Acum.</th>\n",
       "    </tr>\n",
       "    <tr>\n",
       "      <th>Data</th>\n",
       "      <th></th>\n",
       "      <th></th>\n",
       "      <th></th>\n",
       "      <th></th>\n",
       "      <th></th>\n",
       "    </tr>\n",
       "  </thead>\n",
       "  <tbody>\n",
       "    <tr>\n",
       "      <th>2017-03-01</th>\n",
       "      <td>1000</td>\n",
       "      <td>1000</td>\n",
       "      <td>0.045513</td>\n",
       "      <td>1.000455</td>\n",
       "      <td>1000.455130</td>\n",
       "    </tr>\n",
       "    <tr>\n",
       "      <th>2017-03-02</th>\n",
       "      <td>1000</td>\n",
       "      <td>1000</td>\n",
       "      <td>0.045513</td>\n",
       "      <td>1.000910</td>\n",
       "      <td>1000.910467</td>\n",
       "    </tr>\n",
       "    <tr>\n",
       "      <th>2017-03-03</th>\n",
       "      <td>1000</td>\n",
       "      <td>1000</td>\n",
       "      <td>0.045513</td>\n",
       "      <td>1.001366</td>\n",
       "      <td>1001.366012</td>\n",
       "    </tr>\n",
       "    <tr>\n",
       "      <th>2017-03-06</th>\n",
       "      <td>1000</td>\n",
       "      <td>1000</td>\n",
       "      <td>0.045513</td>\n",
       "      <td>1.001822</td>\n",
       "      <td>1001.821763</td>\n",
       "    </tr>\n",
       "    <tr>\n",
       "      <th>2017-03-07</th>\n",
       "      <td>1000</td>\n",
       "      <td>1000</td>\n",
       "      <td>0.045513</td>\n",
       "      <td>1.002278</td>\n",
       "      <td>1002.277722</td>\n",
       "    </tr>\n",
       "  </tbody>\n",
       "</table>\n",
       "</div>"
      ],
      "text/plain": [
       "            Aporte  Acum. Aporte     Selic  Acum. Selic   Pat. Acum.\n",
       "Data                                                                \n",
       "2017-03-01    1000          1000  0.045513     1.000455  1000.455130\n",
       "2017-03-02    1000          1000  0.045513     1.000910  1000.910467\n",
       "2017-03-03    1000          1000  0.045513     1.001366  1001.366012\n",
       "2017-03-06    1000          1000  0.045513     1.001822  1001.821763\n",
       "2017-03-07    1000          1000  0.045513     1.002278  1002.277722"
      ]
     },
     "execution_count": 121,
     "metadata": {},
     "output_type": "execute_result"
    }
   ],
   "source": [
    "final_df['Acum. Selic'] = (final_df['Selic']/100 + 1).cumprod()\n",
    "final_df['Pat. Acum.'] = final_df['Acum. Selic'] * final_df['Acum. Aporte']\n",
    "final_df.head()"
   ]
  },
  {
   "cell_type": "code",
   "execution_count": 122,
   "id": "859dfb7c-fb86-47d0-b9d7-a2e285ba8e17",
   "metadata": {},
   "outputs": [
    {
     "data": {
      "image/png": "[encoded data removed]",
      "text/plain": [
       "<Figure size 1224x360 with 3 Axes>"
      ]
     },
     "metadata": {
      "needs_background": "light"
     },
     "output_type": "display_data"
    }
   ],
   "source": [
    "fig, ax = plt.subplots(1, 3, figsize = (17,5))\n",
    "\n",
    "ax[0].plot(final_df['Pat. Acum.'], label = 'Acum. Pat.')\n",
    "ax[0].plot(final_df['Acum. Aporte'], label = 'Acum. Aportes')\n",
    "\n",
    "ax[0].legend()\n",
    "\n",
    "ax[1].plot(final_df['Acum. Selic'])\n",
    "\n",
    "ax[2].plot(final_df['Selic'])\n",
    "plt.show()"
   ]
  },
  {
   "cell_type": "code",
   "execution_count": null,
   "id": "9a0a6465-6085-4fab-a44a-87e3111c5a5e",
   "metadata": {},
   "outputs": [],
   "source": []
  }
 ],
 "metadata": {
  "kernelspec": {
   "display_name": "Python 3 (ipykernel)",
   "language": "python",
   "name": "python3"
  },
  "language_info": {
   "codemirror_mode": {
    "name": "ipython",
    "version": 3
   },
   "file_extension": ".py",
   "mimetype": "text/x-python",
   "name": "python",
   "nbconvert_exporter": "python",
   "pygments_lexer": "ipython3",
   "version": "3.9.7"
  }
 },
 "nbformat": 4,
 "nbformat_minor": 5
}
