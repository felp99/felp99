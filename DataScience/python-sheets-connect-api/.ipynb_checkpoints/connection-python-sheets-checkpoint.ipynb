{
 "cells": [
  {
   "cell_type": "code",
   "execution_count": 1,
   "id": "52a47d00-1207-4fee-a7d9-158837ecb2e6",
   "metadata": {},
   "outputs": [],
   "source": [
    "import json"
   ]
  },
  {
   "cell_type": "code",
   "execution_count": 27,
   "id": "f8eeeaad-69e9-41ce-bd96-c3ba8558dd83",
   "metadata": {},
   "outputs": [],
   "source": [
    "import gspread\n",
    "import datetime\n",
    "import requests\n",
    "import pandas as pd\n",
    "import numpy as np\n",
    "\n",
    "CODE = '1LyxXkYYPWU_UkuydQhpPWlc-DAM2oMYXKrX4AryEkH8'\n",
    "\n",
    "gc = gspread.service_account(filename = '../key.json')\n",
    "sh = gc.open_by_key(CODE)\n",
    "\n",
    "ws = sh.worksheet('Selic') #Lista dos WS"
   ]
  },
  {
   "cell_type": "code",
   "execution_count": 22,
   "id": "d5922f87-71ba-42d9-803c-b9876b951f0e",
   "metadata": {},
   "outputs": [
    {
     "name": "stdout",
     "output_type": "stream",
     "text": [
      "<Response [200]>\n"
     ]
    }
   ],
   "source": [
    "init_date = '01/12/2019'\n",
    "final_date = datetime.datetime.now().strftime(\"%d/%m/%Y\")\n",
    "\n",
    "response = requests.get(f\"https://api.bcb.gov.br/dados/serie/bcdata.sgs.11/dados?formato=json&dataInicial={init_date}&dataFinal={final_date}\")\n",
    "print(response)\n",
    "\n",
    "selic_df = pd.DataFrame(response.json())\n",
    "\n",
    "# selic_df['Date'] = pd.to_datetime(pd.DataFrame(response.json())['data'], infer_datetime_format = True)\n",
    "\n",
    "# selic_df = selic_df.set_index('Date').drop(columns = ['data'])\n",
    "selic_df = selic_df.rename(columns = {'valor': 'SelicValue'})\n",
    "selic_df['SelicValue'] = pd.to_numeric(selic_df['SelicValue'], errors = 'raise')"
   ]
  },
  {
   "cell_type": "code",
   "execution_count": 27,
   "id": "10954a7e-ac48-4d11-908f-a40e607c7448",
   "metadata": {},
   "outputs": [
    {
     "data": {
      "text/html": [
       "<div>\n",
       "<style scoped>\n",
       "    .dataframe tbody tr th:only-of-type {\n",
       "        vertical-align: middle;\n",
       "    }\n",
       "\n",
       "    .dataframe tbody tr th {\n",
       "        vertical-align: top;\n",
       "    }\n",
       "\n",
       "    .dataframe thead th {\n",
       "        text-align: right;\n",
       "    }\n",
       "</style>\n",
       "<table border=\"1\" class=\"dataframe\">\n",
       "  <thead>\n",
       "    <tr style=\"text-align: right;\">\n",
       "      <th></th>\n",
       "      <th>data</th>\n",
       "      <th>SelicValue</th>\n",
       "    </tr>\n",
       "  </thead>\n",
       "  <tbody>\n",
       "    <tr>\n",
       "      <th>0</th>\n",
       "      <td>29/11/2019</td>\n",
       "      <td>0.018985</td>\n",
       "    </tr>\n",
       "    <tr>\n",
       "      <th>1</th>\n",
       "      <td>02/12/2019</td>\n",
       "      <td>0.018985</td>\n",
       "    </tr>\n",
       "    <tr>\n",
       "      <th>2</th>\n",
       "      <td>03/12/2019</td>\n",
       "      <td>0.018985</td>\n",
       "    </tr>\n",
       "    <tr>\n",
       "      <th>3</th>\n",
       "      <td>04/12/2019</td>\n",
       "      <td>0.018985</td>\n",
       "    </tr>\n",
       "    <tr>\n",
       "      <th>4</th>\n",
       "      <td>05/12/2019</td>\n",
       "      <td>0.018985</td>\n",
       "    </tr>\n",
       "  </tbody>\n",
       "</table>\n",
       "</div>"
      ],
      "text/plain": [
       "         data  SelicValue\n",
       "0  29/11/2019    0.018985\n",
       "1  02/12/2019    0.018985\n",
       "2  03/12/2019    0.018985\n",
       "3  04/12/2019    0.018985\n",
       "4  05/12/2019    0.018985"
      ]
     },
     "execution_count": 33,
     "metadata": {},
     "output_type": "execute_result"
    }
   ],
   "source": [
    "selic_df.head()"
   ]
  },
  {
   "cell_type": "code",
   "execution_count": 29,
   "id": "618d4070-2ad4-4334-b929-a849ae2cd4d2",
   "metadata": {},
   "outputs": [
    {
     "data": {
      "text/plain": [
       "{'spreadsheetId': '1LyxXkYYPWU_UkuydQhpPWlc-DAM2oMYXKrX4AryEkH8',\n",
       " 'updatedRange': 'Selic!A1:B544',\n",
       " 'updatedRows': 544,\n",
       " 'updatedColumns': 2,\n",
       " 'updatedCells': 1088}"
      ]
     },
     "execution_count": 34,
     "metadata": {},
     "output_type": "execute_result"
    }
   ],
   "source": [
    "update = ws.update([selic_df.columns.values.tolist()] + selic_df.values.tolist())"
   ]
  },
  {
   "cell_type": "code",
   "execution_count": null,
   "id": "aae2bd04-85cf-49e6-960f-7f46a5b722fe",
   "metadata": {},
   "outputs": [],
   "source": []
  }
 ],
 "metadata": {
  "kernelspec": {
   "display_name": "Python 3 (ipykernel)",
   "language": "python",
   "name": "python3"
  },
  "language_info": {
   "codemirror_mode": {
    "name": "ipython",
    "version": 3
   },
   "file_extension": ".py",
   "mimetype": "text/x-python",
   "name": "python",
   "nbconvert_exporter": "python",
   "pygments_lexer": "ipython3",
   "version": "3.9.7"
  }
 },
 "nbformat": 4,
 "nbformat_minor": 5
}
