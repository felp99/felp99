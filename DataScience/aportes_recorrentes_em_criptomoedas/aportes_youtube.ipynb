{
 "cells": [
  {
   "cell_type": "markdown",
   "id": "d38816d6-2db3-44c9-ac12-54a11599f3cb",
   "metadata": {},
   "source": [
    "#### Como Simular Aportes Recorrentes em Criptomoedas utilizando Python (O Poder dos Investimentos Fundamentalistas)"
   ]
  },
  {
   "cell_type": "code",
   "execution_count": 1,
   "id": "b884d10e-c7c5-4185-bdef-e4831f69b284",
   "metadata": {},
   "outputs": [],
   "source": [
    "import yfinance as yf\n",
    "import pandas as pd\n",
    "import numpy as np\n",
    "import matplotlib.pyplot as plt"
   ]
  },
  {
   "cell_type": "code",
   "execution_count": 62,
   "id": "cb194057-13d0-49c4-82f9-c078d0af2841",
   "metadata": {},
   "outputs": [],
   "source": [
    "df = yf.Ticker('ETH-USD').history(period='1y', interval = '1mo')['Close']\n",
    "usd = yf.Ticker('USDBRL=X').history(period='1y', interval = '1mo')['Close']\n",
    "df = pd.DataFrame(df * usd)"
   ]
  },
  {
   "cell_type": "code",
   "execution_count": 63,
   "id": "8a5f7776-223c-410a-82cd-c24078e93487",
   "metadata": {},
   "outputs": [
    {
     "data": {
      "text/html": [
       "<div>\n",
       "<style scoped>\n",
       "    .dataframe tbody tr th:only-of-type {\n",
       "        vertical-align: middle;\n",
       "    }\n",
       "\n",
       "    .dataframe tbody tr th {\n",
       "        vertical-align: top;\n",
       "    }\n",
       "\n",
       "    .dataframe thead th {\n",
       "        text-align: right;\n",
       "    }\n",
       "</style>\n",
       "<table border=\"1\" class=\"dataframe\">\n",
       "  <thead>\n",
       "    <tr style=\"text-align: right;\">\n",
       "      <th></th>\n",
       "      <th>Close</th>\n",
       "    </tr>\n",
       "    <tr>\n",
       "      <th>Date</th>\n",
       "      <th></th>\n",
       "    </tr>\n",
       "  </thead>\n",
       "  <tbody>\n",
       "    <tr>\n",
       "      <th>2021-03-01</th>\n",
       "      <td>11072.018027</td>\n",
       "    </tr>\n",
       "    <tr>\n",
       "      <th>2021-04-01</th>\n",
       "      <td>14798.942090</td>\n",
       "    </tr>\n",
       "    <tr>\n",
       "      <th>2021-05-01</th>\n",
       "      <td>14220.883319</td>\n",
       "    </tr>\n",
       "    <tr>\n",
       "      <th>2021-06-01</th>\n",
       "      <td>11270.610985</td>\n",
       "    </tr>\n",
       "    <tr>\n",
       "      <th>2021-07-01</th>\n",
       "      <td>13194.885949</td>\n",
       "    </tr>\n",
       "  </tbody>\n",
       "</table>\n",
       "</div>"
      ],
      "text/plain": [
       "                   Close\n",
       "Date                    \n",
       "2021-03-01  11072.018027\n",
       "2021-04-01  14798.942090\n",
       "2021-05-01  14220.883319\n",
       "2021-06-01  11270.610985\n",
       "2021-07-01  13194.885949"
      ]
     },
     "execution_count": 63,
     "metadata": {},
     "output_type": "execute_result"
    }
   ],
   "source": [
    "df.head()"
   ]
  },
  {
   "cell_type": "code",
   "execution_count": 64,
   "id": "0b1e5f01-732d-4fef-addf-ea90ddb86b96",
   "metadata": {},
   "outputs": [
    {
     "data": {
      "text/html": [
       "<div>\n",
       "<style scoped>\n",
       "    .dataframe tbody tr th:only-of-type {\n",
       "        vertical-align: middle;\n",
       "    }\n",
       "\n",
       "    .dataframe tbody tr th {\n",
       "        vertical-align: top;\n",
       "    }\n",
       "\n",
       "    .dataframe thead th {\n",
       "        text-align: right;\n",
       "    }\n",
       "</style>\n",
       "<table border=\"1\" class=\"dataframe\">\n",
       "  <thead>\n",
       "    <tr style=\"text-align: right;\">\n",
       "      <th></th>\n",
       "      <th>Close</th>\n",
       "      <th>Aporte</th>\n",
       "    </tr>\n",
       "    <tr>\n",
       "      <th>Date</th>\n",
       "      <th></th>\n",
       "      <th></th>\n",
       "    </tr>\n",
       "  </thead>\n",
       "  <tbody>\n",
       "    <tr>\n",
       "      <th>2021-03-01</th>\n",
       "      <td>11072.018027</td>\n",
       "      <td>1000</td>\n",
       "    </tr>\n",
       "    <tr>\n",
       "      <th>2021-04-01</th>\n",
       "      <td>14798.942090</td>\n",
       "      <td>1000</td>\n",
       "    </tr>\n",
       "    <tr>\n",
       "      <th>2021-05-01</th>\n",
       "      <td>14220.883319</td>\n",
       "      <td>1000</td>\n",
       "    </tr>\n",
       "    <tr>\n",
       "      <th>2021-06-01</th>\n",
       "      <td>11270.610985</td>\n",
       "      <td>1000</td>\n",
       "    </tr>\n",
       "    <tr>\n",
       "      <th>2021-07-01</th>\n",
       "      <td>13194.885949</td>\n",
       "      <td>1000</td>\n",
       "    </tr>\n",
       "  </tbody>\n",
       "</table>\n",
       "</div>"
      ],
      "text/plain": [
       "                   Close  Aporte\n",
       "Date                            \n",
       "2021-03-01  11072.018027    1000\n",
       "2021-04-01  14798.942090    1000\n",
       "2021-05-01  14220.883319    1000\n",
       "2021-06-01  11270.610985    1000\n",
       "2021-07-01  13194.885949    1000"
      ]
     },
     "execution_count": 64,
     "metadata": {},
     "output_type": "execute_result"
    }
   ],
   "source": [
    "df['Aporte'] = 1000\n",
    "df.head()"
   ]
  },
  {
   "cell_type": "code",
   "execution_count": 65,
   "id": "df0f861d-4e74-466f-bbba-9a76b7d64903",
   "metadata": {},
   "outputs": [],
   "source": [
    "for i in range(len(df)-1):\n",
    "    pct_change_variable = df['Close'][df.index[i]:].pct_change() + 1\n",
    "    df[f'investimento_{i}'] = pct_change_variable.cumprod() * df['Aporte']\n",
    "    \n",
    "investimento_colunas = [f'investimento_{i}' for i in range(len(df)-1)]"
   ]
  },
  {
   "cell_type": "code",
   "execution_count": 66,
   "id": "792de0a2-4e06-4921-9561-dac44ddace69",
   "metadata": {},
   "outputs": [
    {
     "data": {
      "text/plain": [
       "['investimento_0',\n",
       " 'investimento_1',\n",
       " 'investimento_2',\n",
       " 'investimento_3',\n",
       " 'investimento_4',\n",
       " 'investimento_5',\n",
       " 'investimento_6',\n",
       " 'investimento_7',\n",
       " 'investimento_8',\n",
       " 'investimento_9',\n",
       " 'investimento_10',\n",
       " 'investimento_11']"
      ]
     },
     "execution_count": 66,
     "metadata": {},
     "output_type": "execute_result"
    }
   ],
   "source": [
    "investimento_colunas"
   ]
  },
  {
   "cell_type": "code",
   "execution_count": 67,
   "id": "2ec843b3-0196-4748-8b65-057274ad1a39",
   "metadata": {},
   "outputs": [
    {
     "data": {
      "text/html": [
       "<div>\n",
       "<style scoped>\n",
       "    .dataframe tbody tr th:only-of-type {\n",
       "        vertical-align: middle;\n",
       "    }\n",
       "\n",
       "    .dataframe tbody tr th {\n",
       "        vertical-align: top;\n",
       "    }\n",
       "\n",
       "    .dataframe thead th {\n",
       "        text-align: right;\n",
       "    }\n",
       "</style>\n",
       "<table border=\"1\" class=\"dataframe\">\n",
       "  <thead>\n",
       "    <tr style=\"text-align: right;\">\n",
       "      <th>Date</th>\n",
       "      <th>2021-03-01</th>\n",
       "      <th>2021-04-01</th>\n",
       "      <th>2021-05-01</th>\n",
       "      <th>2021-06-01</th>\n",
       "      <th>2021-07-01</th>\n",
       "      <th>2021-08-01</th>\n",
       "      <th>2021-09-01</th>\n",
       "      <th>2021-10-01</th>\n",
       "      <th>2021-11-01</th>\n",
       "      <th>2021-12-01</th>\n",
       "      <th>2022-01-01</th>\n",
       "      <th>2022-02-01</th>\n",
       "      <th>2022-02-16</th>\n",
       "    </tr>\n",
       "  </thead>\n",
       "  <tbody>\n",
       "    <tr>\n",
       "      <th>investimento_0</th>\n",
       "      <td>NaN</td>\n",
       "      <td>1336.607478</td>\n",
       "      <td>1284.398498</td>\n",
       "      <td>1017.936474</td>\n",
       "      <td>1191.732701</td>\n",
       "      <td>1607.357649</td>\n",
       "      <td>1467.843551</td>\n",
       "      <td>2181.871743</td>\n",
       "      <td>2342.800015</td>\n",
       "      <td>1852.688563</td>\n",
       "      <td>1302.035772</td>\n",
       "      <td>1497.457860</td>\n",
       "      <td>1455.689006</td>\n",
       "    </tr>\n",
       "    <tr>\n",
       "      <th>investimento_1</th>\n",
       "      <td>NaN</td>\n",
       "      <td>NaN</td>\n",
       "      <td>960.939183</td>\n",
       "      <td>761.582207</td>\n",
       "      <td>891.610081</td>\n",
       "      <td>1202.565208</td>\n",
       "      <td>1098.185949</td>\n",
       "      <td>1632.395284</td>\n",
       "      <td>1752.795831</td>\n",
       "      <td>1386.112672</td>\n",
       "      <td>974.134735</td>\n",
       "      <td>1120.342273</td>\n",
       "      <td>1089.092370</td>\n",
       "    </tr>\n",
       "    <tr>\n",
       "      <th>investimento_2</th>\n",
       "      <td>NaN</td>\n",
       "      <td>NaN</td>\n",
       "      <td>NaN</td>\n",
       "      <td>792.539446</td>\n",
       "      <td>927.852768</td>\n",
       "      <td>1251.447781</td>\n",
       "      <td>1142.825653</td>\n",
       "      <td>1698.749841</td>\n",
       "      <td>1824.044500</td>\n",
       "      <td>1442.456190</td>\n",
       "      <td>1013.731933</td>\n",
       "      <td>1165.882600</td>\n",
       "      <td>1133.362433</td>\n",
       "    </tr>\n",
       "    <tr>\n",
       "      <th>investimento_3</th>\n",
       "      <td>NaN</td>\n",
       "      <td>NaN</td>\n",
       "      <td>NaN</td>\n",
       "      <td>NaN</td>\n",
       "      <td>1170.733864</td>\n",
       "      <td>1579.035324</td>\n",
       "      <td>1441.979524</td>\n",
       "      <td>2143.426235</td>\n",
       "      <td>2301.518883</td>\n",
       "      <td>1820.043403</td>\n",
       "      <td>1279.093348</td>\n",
       "      <td>1471.072016</td>\n",
       "      <td>1430.039147</td>\n",
       "    </tr>\n",
       "    <tr>\n",
       "      <th>investimento_4</th>\n",
       "      <td>NaN</td>\n",
       "      <td>NaN</td>\n",
       "      <td>NaN</td>\n",
       "      <td>NaN</td>\n",
       "      <td>NaN</td>\n",
       "      <td>1348.756855</td>\n",
       "      <td>1231.688574</td>\n",
       "      <td>1830.839870</td>\n",
       "      <td>1965.877091</td>\n",
       "      <td>1554.617543</td>\n",
       "      <td>1092.556888</td>\n",
       "      <td>1256.538365</td>\n",
       "      <td>1221.489521</td>\n",
       "    </tr>\n",
       "  </tbody>\n",
       "</table>\n",
       "</div>"
      ],
      "text/plain": [
       "Date            2021-03-01   2021-04-01   2021-05-01   2021-06-01  \\\n",
       "investimento_0         NaN  1336.607478  1284.398498  1017.936474   \n",
       "investimento_1         NaN          NaN   960.939183   761.582207   \n",
       "investimento_2         NaN          NaN          NaN   792.539446   \n",
       "investimento_3         NaN          NaN          NaN          NaN   \n",
       "investimento_4         NaN          NaN          NaN          NaN   \n",
       "\n",
       "Date             2021-07-01   2021-08-01   2021-09-01   2021-10-01  \\\n",
       "investimento_0  1191.732701  1607.357649  1467.843551  2181.871743   \n",
       "investimento_1   891.610081  1202.565208  1098.185949  1632.395284   \n",
       "investimento_2   927.852768  1251.447781  1142.825653  1698.749841   \n",
       "investimento_3  1170.733864  1579.035324  1441.979524  2143.426235   \n",
       "investimento_4          NaN  1348.756855  1231.688574  1830.839870   \n",
       "\n",
       "Date             2021-11-01   2021-12-01   2022-01-01   2022-02-01  \\\n",
       "investimento_0  2342.800015  1852.688563  1302.035772  1497.457860   \n",
       "investimento_1  1752.795831  1386.112672   974.134735  1120.342273   \n",
       "investimento_2  1824.044500  1442.456190  1013.731933  1165.882600   \n",
       "investimento_3  2301.518883  1820.043403  1279.093348  1471.072016   \n",
       "investimento_4  1965.877091  1554.617543  1092.556888  1256.538365   \n",
       "\n",
       "Date             2022-02-16  \n",
       "investimento_0  1455.689006  \n",
       "investimento_1  1089.092370  \n",
       "investimento_2  1133.362433  \n",
       "investimento_3  1430.039147  \n",
       "investimento_4  1221.489521  "
      ]
     },
     "execution_count": 67,
     "metadata": {},
     "output_type": "execute_result"
    }
   ],
   "source": [
    "df_resultado = df[investimento_colunas].transpose()\n",
    "df_resultado.head()"
   ]
  },
  {
   "cell_type": "code",
   "execution_count": 68,
   "id": "e57d5814-50b7-4034-a233-8f5397010875",
   "metadata": {},
   "outputs": [
    {
     "data": {
      "image/png": "[encoded data removed]",
      "text/plain": [
       "<Figure size 1368x288 with 1 Axes>"
      ]
     },
     "metadata": {
      "needs_background": "light"
     },
     "output_type": "display_data"
    },
    {
     "name": "stdout",
     "output_type": "stream",
     "text": [
      "Valor final dos aportes: R$12000\n",
      "Valor final do investimento: R$12391.39\n",
      "Valor final do investimento: R$391.39\n"
     ]
    }
   ],
   "source": [
    "plt.figure(figsize = (19,4))\n",
    "plt.plot(df_resultado.sum(), label = 'Resultado Acumulado Investimento')\n",
    "plt.plot(df['Aporte'].cumsum(), label = 'Resultado Acumulado Aportes')\n",
    "plt.legend()\n",
    "plt.show()\n",
    "\n",
    "valor_final_aportes = df['Aporte'].sum()\n",
    "valor_final_invest = df_resultado.sum()[-1]\n",
    "\n",
    "print(f'Valor final dos aportes: R${round(valor_final_aportes-1000, 2)}')\n",
    "print(f'Valor final do investimento: R${round(valor_final_invest, 2)}')\n",
    "print(f'Valor final do investimento: R${round(valor_final_invest-valor_final_aportes+1000, 2)}')"
   ]
  },
  {
   "cell_type": "code",
   "execution_count": 35,
   "id": "935309bc-3294-4e24-bb3d-97ab09191d19",
   "metadata": {},
   "outputs": [
    {
     "data": {
      "text/plain": [
       "11535.109962706294"
      ]
     },
     "execution_count": 35,
     "metadata": {},
     "output_type": "execute_result"
    }
   ],
   "source": [
    "df_resultado.sum()[-1]"
   ]
  },
  {
   "cell_type": "code",
   "execution_count": null,
   "id": "d85361bb-00ac-4179-8e71-dc8184a899e9",
   "metadata": {},
   "outputs": [],
   "source": []
  }
 ],
 "metadata": {
  "kernelspec": {
   "display_name": "Python 3 (ipykernel)",
   "language": "python",
   "name": "python3"
  },
  "language_info": {
   "codemirror_mode": {
    "name": "ipython",
    "version": 3
   },
   "file_extension": ".py",
   "mimetype": "text/x-python",
   "name": "python",
   "nbconvert_exporter": "python",
   "pygments_lexer": "ipython3",
   "version": "3.9.7"
  }
 },
 "nbformat": 4,
 "nbformat_minor": 5
}
