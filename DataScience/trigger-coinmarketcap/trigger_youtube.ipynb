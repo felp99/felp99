{
 "cells": [
  {
   "cell_type": "code",
   "execution_count": 2,
   "id": "ed67098c-2c37-4617-b1a7-4405def0c5fc",
   "metadata": {},
   "outputs": [],
   "source": [
    "with open('key.txt') as f:\n",
    "    key = f.read()"
   ]
  },
  {
   "cell_type": "code",
   "execution_count": 5,
   "id": "45e712cb-bdd6-4dcf-a7a3-0cb827c4f31f",
   "metadata": {},
   "outputs": [],
   "source": [
    "from requests import Request, Session\n",
    "from requests.exceptions import ConnectionError, Timeout, TooManyRedirects\n",
    "import pandas as pd\n",
    "import gspread\n",
    "import json\n",
    "\n",
    "url = 'https://pro-api.coinmarketcap.com/v1/cryptocurrency/listings/latest'\n",
    "\n",
    "parameters = {\n",
    "    'start':1,\n",
    "    'limit': '5000',\n",
    "    'convert': 'BRL'\n",
    "}\n",
    "\n",
    "headers = {\n",
    "  'Accepts': 'application/json',\n",
    "  'X-CMC_PRO_API_KEY': key, #'1111f122-05e2-408c-83d2-c965de3b70ff' >> Esse não vai funcionar\n",
    "}\n",
    "\n",
    "session = Session()\n",
    "session.headers.update(headers)\n",
    "\n",
    "# response = session.get(url, params=parameters)\n",
    "# data = json.loads(response.text)"
   ]
  },
  {
   "cell_type": "code",
   "execution_count": 11,
   "id": "2d124803-27c8-41ec-b017-54a2cb4c4cef",
   "metadata": {},
   "outputs": [],
   "source": [
    "df = pd.DataFrame(data['data'])\n",
    "\n",
    "info = (df['quote'].apply(pd.Series)['BRL']).apply(pd.Series)\n",
    "\n",
    "to_sheet = df[['name', 'symbol', 'slug']]\n",
    "\n",
    "to_sheet.loc[:, info.columns] = info\n",
    "\n",
    "to_sheet"
   ]
  },
  {
   "cell_type": "code",
   "execution_count": 29,
   "id": "cc728ec6-03ac-41c7-a3ca-81949eafba1d",
   "metadata": {},
   "outputs": [],
   "source": [
    "gc = gspread.service_account(filename = '../../key.json')\n",
    "code = '1F9NY5hQQQozC5MGuseiDxpj218902He_Gna-doOrobs'\n",
    "sh = gc.open_by_key(code)\n",
    "ws = sh.worksheet('CoinMarketCap')\n",
    "clear = ws.clear()\n",
    "to_sheet = to_sheet.fillna('')\n",
    "update = ws.update([to_sheet.columns.values.tolist()] + to_sheet.values.tolist())"
   ]
  },
  {
   "cell_type": "code",
   "execution_count": 42,
   "id": "b5f76ac8-3997-484f-8087-ac895d553eee",
   "metadata": {},
   "outputs": [],
   "source": [
    "with open('key.txt') as f:\n",
    "    key = f.read()\n",
    "\n",
    "from requests import Request, Session\n",
    "from requests.exceptions import ConnectionError, Timeout, TooManyRedirects\n",
    "import pandas as pd\n",
    "import gspread\n",
    "import json\n",
    "\n",
    "url = 'https://pro-api.coinmarketcap.com/v1/cryptocurrency/listings/latest'\n",
    "\n",
    "parameters = {\n",
    "    'start':1,\n",
    "    'limit': '5000',\n",
    "    'convert': 'BRL'\n",
    "}\n",
    "\n",
    "headers = {\n",
    "  'Accepts': 'application/json',\n",
    "  'X-CMC_PRO_API_KEY': key,\n",
    "}\n",
    "\n",
    "# session = Session()\n",
    "# session.headers.update(headers)\n",
    "\n",
    "response = session.get(url, params=parameters)\n",
    "data = json.loads(response.text)\n",
    "\n",
    "df = pd.DataFrame(data['data'])\n",
    "info = (df['quote'].apply(pd.Series)['BRL']).apply(pd.Series)\n",
    "to_sheet = df[['name', 'symbol', 'slug']]\n",
    "to_sheet = pd.merge(to_sheet, info, left_index=True, right_index=True)\n",
    "\n",
    "gc = gspread.service_account(filename = '../../key.json')\n",
    "code = '1F9NY5hQQQozC5MGuseiDxpj218902He_Gna-doOrobs'\n",
    "sh = gc.open_by_key(code)\n",
    "ws = sh.worksheet('CoinMarketCap')\n",
    "clear = ws.clear()\n",
    "to_sheet = to_sheet.fillna('')\n",
    "update = ws.update([to_sheet.columns.values.tolist()] + to_sheet.values.tolist())"
   ]
  }
 ],
 "metadata": {
  "kernelspec": {
   "display_name": "Python 3 (ipykernel)",
   "language": "python",
   "name": "python3"
  },
  "language_info": {
   "codemirror_mode": {
    "name": "ipython",
    "version": 3
   },
   "file_extension": ".py",
   "mimetype": "text/x-python",
   "name": "python",
   "nbconvert_exporter": "python",
   "pygments_lexer": "ipython3",
   "version": "3.9.7"
  }
 },
 "nbformat": 4,
 "nbformat_minor": 5
}
